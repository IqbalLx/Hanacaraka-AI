{
  "nbformat": 4,
  "nbformat_minor": 0,
  "metadata": {
    "colab": {
      "name": "Hanacaraka AI - improved model.ipynb",
      "provenance": [],
      "collapsed_sections": [],
      "authorship_tag": "ABX9TyOigqvyXxuwunIca1Irzl3V",
      "include_colab_link": true
    },
    "kernelspec": {
      "name": "python3",
      "display_name": "Python 3"
    },
    "accelerator": "GPU"
  },
  "cells": [
    {
      "cell_type": "markdown",
      "metadata": {
        "id": "view-in-github",
        "colab_type": "text"
      },
      "source": [
        "<a href=\"https://colab.research.google.com/github/IqbalLx/Hanacaraka-AI/blob/master/Hanacaraka%20AI%20-%20notebook%20-%20improved%20model.ipynb\" target=\"_parent\"><img src=\"https://colab.research.google.com/assets/colab-badge.svg\" alt=\"Open In Colab\"/></a>"
      ]
    },
    {
      "cell_type": "code",
      "metadata": {
        "id": "IA1hy-pUuSHJ",
        "colab_type": "code",
        "colab": {
          "base_uri": "https://localhost:8080/",
          "height": 122
        },
        "outputId": "7e9df9d9-a9bd-44d7-b9a1-9b78ba29d829"
      },
      "source": [
        "from google.colab import drive\n",
        "drive.mount('/content/gdrive/')"
      ],
      "execution_count": null,
      "outputs": [
        {
          "output_type": "stream",
          "text": [
            "Go to this URL in a browser: https://accounts.google.com/o/oauth2/auth?client_id=947318989803-6bn6qk8qdgf4n4g3pfee6491hc0brc4i.apps.googleusercontent.com&redirect_uri=urn%3aietf%3awg%3aoauth%3a2.0%3aoob&response_type=code&scope=email%20https%3a%2f%2fwww.googleapis.com%2fauth%2fdocs.test%20https%3a%2f%2fwww.googleapis.com%2fauth%2fdrive%20https%3a%2f%2fwww.googleapis.com%2fauth%2fdrive.photos.readonly%20https%3a%2f%2fwww.googleapis.com%2fauth%2fpeopleapi.readonly\n",
            "\n",
            "Enter your authorization code:\n",
            "··········\n",
            "Mounted at /content/gdrive/\n"
          ],
          "name": "stdout"
        }
      ]
    },
    {
      "cell_type": "code",
      "metadata": {
        "id": "IVqd7GPjMQsM",
        "colab_type": "code",
        "colab": {}
      },
      "source": [
        "import zipfile\n",
        "\n",
        "filename = '/content/gdrive/My Drive/HanacarakaAI/datasetv3.zip'\n",
        "zip_ref = zipfile.ZipFile(filename)\n",
        "zip_ref.extractall()\n",
        "zip_ref.close()"
      ],
      "execution_count": null,
      "outputs": []
    },
    {
      "cell_type": "code",
      "metadata": {
        "id": "oGxRXx_o58uo",
        "colab_type": "code",
        "colab": {}
      },
      "source": [
        "import os\n",
        "import time\n",
        "import math\n",
        "\n",
        "import numpy as np\n",
        "import matplotlib.pyplot as plt\n",
        "import matplotlib.image as plt_image\n",
        "plt.style.use('seaborn')\n",
        "\n",
        "import tensorflow as tf\n",
        "\n",
        "from tensorflow.keras.preprocessing.image import ImageDataGenerator\n",
        "from tensorflow.keras.preprocessing import image as keras_image\n",
        "\n",
        "from tensorflow.keras.models import Sequential\n",
        "from tensorflow.keras.layers import Conv2D, MaxPool2D, GlobalAveragePooling2D\n",
        "from tensorflow.keras.layers import Flatten, Dense, Dropout\n",
        "from tensorflow.keras.layers import BatchNormalization\n",
        "\n",
        "from tensorflow.keras.regularizers import l2\n",
        "\n",
        "from tensorflow.keras.optimizers import Adam\n",
        "\n",
        "from tensorflow.keras.callbacks import TensorBoard\n",
        "%load_ext tensorboard"
      ],
      "execution_count": null,
      "outputs": []
    },
    {
      "cell_type": "code",
      "metadata": {
        "id": "n2-Jwsa0Beqy",
        "colab_type": "code",
        "cellView": "form",
        "colab": {}
      },
      "source": [
        "#@title Helper function for plotting Accuracy and Loss\n",
        "def plot(hist):\n",
        "  history = hist.history\n",
        "  history['epoch'] = hist.epoch\n",
        "\n",
        "  plt.figure(figsize=(12, 5))\n",
        "\n",
        "  plt.subplot(121)\n",
        "  plt.plot(history['epoch'], history['loss'], label='Loss')\n",
        "  plt.plot(history['epoch'], history['val_loss'], label='Val Loss', color='orange')\n",
        "  plt.legend()\n",
        "\n",
        "  plt.subplot(122)\n",
        "  plt.plot(history['epoch'], history['accuracy'], label='Acc')\n",
        "  plt.plot(history['epoch'], history['val_accuracy'], label='Val Acc', color='orange')\n",
        "  plt.legend()\n",
        "\n",
        "  return plt.show()"
      ],
      "execution_count": null,
      "outputs": []
    },
    {
      "cell_type": "code",
      "metadata": {
        "id": "eIuUPT9NlfiR",
        "colab_type": "code",
        "cellView": "both",
        "colab": {}
      },
      "source": [
        "#@title Helper function for testing model\n",
        "classes = ['ba', 'ca', 'da', 'dha', 'ga', 'ha', 'ja', 'ka', 'la', 'ma',\n",
        "           'na', 'nga', 'nya', 'pa', 'ra', 'sa', 'ta', 'tha', 'wa', 'ya']\n",
        "\n",
        "def test(model, width):\n",
        "  test_images_paths = os.listdir('dataset/prediction')\n",
        "  for path in test_images_paths:\n",
        "    image_path = os.path.join('dataset/prediction', path)\n",
        "\n",
        "    image = keras_image.load_img(image_path,\n",
        "                                 color_mode='grayscale',\n",
        "                                 target_size=(width, width))\n",
        "    x = keras_image.img_to_array(image)\n",
        "    x /= 255\n",
        "    x = np.expand_dims(x, axis=0)\n",
        "\n",
        "    test_image = np.vstack([x])\n",
        "    result = model.predict(test_image, batch_size=8)\n",
        "\n",
        "    print(image_path)\n",
        "    print(classes[np.argmax(result)])\n",
        "\n",
        "    preview = plt_image.imread(image_path)\n",
        "    plt.imshow(preview)\n",
        "    plt.show()\n",
        "  return print('Prediction Done')"
      ],
      "execution_count": null,
      "outputs": []
    },
    {
      "cell_type": "markdown",
      "metadata": {
        "id": "nQmCyCco55zr",
        "colab_type": "text"
      },
      "source": [
        "# Image Data Generator"
      ]
    },
    {
      "cell_type": "code",
      "metadata": {
        "id": "wvIyZ32w6pqr",
        "colab_type": "code",
        "colab": {
          "base_uri": "https://localhost:8080/",
          "height": 51
        },
        "outputId": "0b7f0e58-5d27-4b98-8783-60d31b52a930"
      },
      "source": [
        "SIZE = 100 #Image width\n",
        "\n",
        "train_datagen = ImageDataGenerator(rescale=1-(1/255),\n",
        "                                   rotation_range=20,\n",
        "                                   zoom_range=0.2,\n",
        "                                   shear_range=0.1)\n",
        "\n",
        "validation_datagen = ImageDataGenerator(rescale=1-(1/255))\n",
        "\n",
        "train_generator = train_datagen.flow_from_directory(\n",
        "    'datasetv2/training',\n",
        "    target_size=(SIZE, SIZE),\n",
        "    batch_size=32,\n",
        "    color_mode='grayscale',\n",
        "    class_mode = 'categorical'\n",
        ")\n",
        "\n",
        "val_generator = validation_datagen.flow_from_directory(\n",
        "    'datasetv2/testing',\n",
        "    target_size=(SIZE, SIZE),\n",
        "    batch_size=32,\n",
        "    color_mode='grayscale',\n",
        "    class_mode = 'categorical'\n",
        ")"
      ],
      "execution_count": null,
      "outputs": [
        {
          "output_type": "stream",
          "text": [
            "Found 3120 images belonging to 20 classes.\n",
            "Found 1299 images belonging to 20 classes.\n"
          ],
          "name": "stdout"
        }
      ]
    },
    {
      "cell_type": "markdown",
      "metadata": {
        "id": "D-1RJNRXiGIW",
        "colab_type": "text"
      },
      "source": [
        "#Build Improved Model"
      ]
    },
    {
      "cell_type": "code",
      "metadata": {
        "id": "IIvzStHYl3iZ",
        "colab_type": "code",
        "colab": {}
      },
      "source": [
        "reduce_on_plateau = tf.keras.callbacks.ReduceLROnPlateau(\n",
        "                    monitor='val_loss', factor=0.1, patience=5, verbose=0, mode='auto',\n",
        "                    min_delta=0.0001, cooldown=3, min_lr=1e-8\n",
        "                )"
      ],
      "execution_count": null,
      "outputs": []
    },
    {
      "cell_type": "code",
      "metadata": {
        "id": "ZH7KaknpAiJi",
        "colab_type": "code",
        "cellView": "form",
        "colab": {}
      },
      "source": [
        "#@title Custom callbacks for Early Stopping\n",
        "#I decide to write my own callback class for early stopping\n",
        "#To added some flexibility\n",
        "#Early stop if accuracy already hit more than 80% \n",
        "#and didnt significantly increased after that\n",
        "\n",
        "class early_stop(tf.keras.callbacks.Callback):\n",
        "  def __init__(self, threshold=0.8, patience=3, significance_val=0.001):\n",
        "    super(early_stop, self).__init__()\n",
        "\n",
        "    self.threshold = threshold                                                    #Minimum accuracy\n",
        "    self.patience = patience                                                      #Limit epoch to wait if accuracy no longer increased\n",
        "    self.significance_val = significance_val                                      #Significant value to mark improvement in accuracy\n",
        "    self.best_weights = None                                                      #Best weights record\n",
        "    self.is_reach_threshold = False                                               #Track if already reach threshold value or not\n",
        "    self.best_epoch = 0                                                           #Track best epoch that produce best weights\n",
        "\n",
        "  def on_train_begin(self, logs=None):\n",
        "    self.previous_acc = 0                                                         #Track previous accuracy\n",
        "    self.wait = 0                                                                 #Track epoch when accuracy no longer increased\n",
        "\n",
        "  def on_epoch_end(self, epoch, logs={}):\n",
        "    self.current_acc = logs.get('val_accuracy')                                   #Current epoch's validation accuracy\n",
        "\n",
        "    if self.is_reach_threshold:\n",
        "      if self.current_acc - self.previous_acc > self.significance_val:\n",
        "        self.wait = 0\n",
        "        self.previous_acc = self.current_acc\n",
        "        self.best_weights = self.model.get_weights()\n",
        "        self.best_epoch = epoch\n",
        "        print('\\n[INFO] Best weights updated!')\n",
        "      else:\n",
        "        self.wait += 1\n",
        "        print(f'\\n[INFO] Current wait = {self.wait}')\n",
        "        if self.wait >= self.patience:\n",
        "          self.model.stop_training = True\n",
        "          print(f'\\n[INFO] Validation Accuracy didnt increased after {self.patience} epochs, training stopped...')\n",
        "          self.model.set_weights(self.best_weights)\n",
        "          print(f'\\n[INFO] Restoring best weights from epoch {self.best_epoch + 1} val_acc')\n",
        "    \n",
        "    if self.current_acc > self.threshold and not self.is_reach_threshold:\n",
        "      self.is_reach_threshold = True\n",
        "      self.previous_acc = self.current_acc\n",
        "      self.best_weights = self.model.get_weights()\n",
        "      self.best_epoch = epoch\n",
        "      print('\\n[INFO] Threshold reached! Best weights start here...')"
      ],
      "execution_count": null,
      "outputs": []
    },
    {
      "cell_type": "code",
      "metadata": {
        "id": "sTUd9h00ZZmR",
        "colab_type": "code",
        "colab": {
          "base_uri": "https://localhost:8080/",
          "height": 799
        },
        "outputId": "8850fb8c-fab7-4b36-ac1e-27d5c1bbc821"
      },
      "source": [
        "improved_model = Sequential([Conv2D(16, (3, 3), padding='same', kernel_initializer='he_normal', kernel_regularizer=l2(5e-5), activation='relu', input_shape=(SIZE, SIZE, 1)),\n",
        "                             BatchNormalization(),\n",
        "                             MaxPool2D(2, 2),\n",
        "                             Dropout(0.2),\n",
        "                             Conv2D(32, (3, 3), padding='same', kernel_initializer='he_normal', kernel_regularizer=l2(5e-5), activation='relu'),\n",
        "                             BatchNormalization(),\n",
        "                             MaxPool2D(2, 2),\n",
        "                             Dropout(0.2),\n",
        "                             Conv2D(64, (3, 3), padding='same', kernel_initializer='he_normal', kernel_regularizer=l2(5e-5), activation='relu'),\n",
        "                             BatchNormalization(),\n",
        "                             MaxPool2D(2, 2),\n",
        "                             Dropout(0.2),\n",
        "                             Conv2D(128, (3, 3), padding='same', kernel_initializer='he_normal', kernel_regularizer=l2(5e-5), activation='relu'),\n",
        "                             BatchNormalization(),\n",
        "                             MaxPool2D(2, 2),\n",
        "                             Dropout(0.2),\n",
        "                             GlobalAveragePooling2D(),\n",
        "                             Flatten(),\n",
        "                             Dense(20, activation='softmax')])\n",
        "\n",
        "improved_model.compile(\n",
        "    loss='categorical_crossentropy',\n",
        "    optimizer=Adam(1e-2),\n",
        "    metrics=['accuracy']\n",
        ")\n",
        "\n",
        "improved_model.summary()"
      ],
      "execution_count": null,
      "outputs": [
        {
          "output_type": "stream",
          "text": [
            "Model: \"sequential\"\n",
            "_________________________________________________________________\n",
            "Layer (type)                 Output Shape              Param #   \n",
            "=================================================================\n",
            "conv2d (Conv2D)              (None, 100, 100, 16)      160       \n",
            "_________________________________________________________________\n",
            "batch_normalization (BatchNo (None, 100, 100, 16)      64        \n",
            "_________________________________________________________________\n",
            "max_pooling2d (MaxPooling2D) (None, 50, 50, 16)        0         \n",
            "_________________________________________________________________\n",
            "dropout (Dropout)            (None, 50, 50, 16)        0         \n",
            "_________________________________________________________________\n",
            "conv2d_1 (Conv2D)            (None, 50, 50, 32)        4640      \n",
            "_________________________________________________________________\n",
            "batch_normalization_1 (Batch (None, 50, 50, 32)        128       \n",
            "_________________________________________________________________\n",
            "max_pooling2d_1 (MaxPooling2 (None, 25, 25, 32)        0         \n",
            "_________________________________________________________________\n",
            "dropout_1 (Dropout)          (None, 25, 25, 32)        0         \n",
            "_________________________________________________________________\n",
            "conv2d_2 (Conv2D)            (None, 25, 25, 64)        18496     \n",
            "_________________________________________________________________\n",
            "batch_normalization_2 (Batch (None, 25, 25, 64)        256       \n",
            "_________________________________________________________________\n",
            "max_pooling2d_2 (MaxPooling2 (None, 12, 12, 64)        0         \n",
            "_________________________________________________________________\n",
            "dropout_2 (Dropout)          (None, 12, 12, 64)        0         \n",
            "_________________________________________________________________\n",
            "conv2d_3 (Conv2D)            (None, 12, 12, 128)       73856     \n",
            "_________________________________________________________________\n",
            "batch_normalization_3 (Batch (None, 12, 12, 128)       512       \n",
            "_________________________________________________________________\n",
            "max_pooling2d_3 (MaxPooling2 (None, 6, 6, 128)         0         \n",
            "_________________________________________________________________\n",
            "dropout_3 (Dropout)          (None, 6, 6, 128)         0         \n",
            "_________________________________________________________________\n",
            "global_average_pooling2d (Gl (None, 128)               0         \n",
            "_________________________________________________________________\n",
            "flatten (Flatten)            (None, 128)               0         \n",
            "_________________________________________________________________\n",
            "dense (Dense)                (None, 20)                2580      \n",
            "=================================================================\n",
            "Total params: 100,692\n",
            "Trainable params: 100,212\n",
            "Non-trainable params: 480\n",
            "_________________________________________________________________\n"
          ],
          "name": "stdout"
        }
      ]
    },
    {
      "cell_type": "code",
      "metadata": {
        "id": "Uib1aG6mggzN",
        "colab_type": "code",
        "colab": {
          "base_uri": "https://localhost:8080/",
          "height": 164
        },
        "outputId": "6f7da373-4217-4763-db74-2cf2e8b8cb73"
      },
      "source": [
        "assert False"
      ],
      "execution_count": null,
      "outputs": [
        {
          "output_type": "error",
          "ename": "AssertionError",
          "evalue": "ignored",
          "traceback": [
            "\u001b[0;31m---------------------------------------------------------------------------\u001b[0m",
            "\u001b[0;31mAssertionError\u001b[0m                            Traceback (most recent call last)",
            "\u001b[0;32m<ipython-input-36-a871fdc9ebee>\u001b[0m in \u001b[0;36m<module>\u001b[0;34m()\u001b[0m\n\u001b[0;32m----> 1\u001b[0;31m \u001b[0;32massert\u001b[0m \u001b[0;32mFalse\u001b[0m\u001b[0;34m\u001b[0m\u001b[0;34m\u001b[0m\u001b[0m\n\u001b[0m",
            "\u001b[0;31mAssertionError\u001b[0m: "
          ]
        }
      ]
    },
    {
      "cell_type": "code",
      "metadata": {
        "id": "3qPR6Vn7xysJ",
        "colab_type": "code",
        "colab": {}
      },
      "source": [
        "LOGS = '/content/gdrive/My Drive/HanacarakaAI/logs/'\n",
        "NAME = f'improved_model_v2-{time.time()}'\n",
        "tensorboard = TensorBoard(log_dir=os.path.join(LOGS, NAME), histogram_freq=1)\n",
        "\n",
        "early_stop = early_stop(patience=20)\n",
        "\n",
        "%tensorboard --logdir='/content/gdrive/My Drive/HanacarakaAI/logs/'"
      ],
      "execution_count": null,
      "outputs": []
    },
    {
      "cell_type": "code",
      "metadata": {
        "id": "wmJUObMkjFFZ",
        "colab_type": "code",
        "colab": {
          "base_uri": "https://localhost:8080/",
          "height": 1000
        },
        "outputId": "d319978d-a6a3-43c5-a0c9-ca30e3bcd7d4"
      },
      "source": [
        "improved_hist = improved_model.fit(\n",
        "    train_generator,\n",
        "    epochs = 100,\n",
        "    steps_per_epoch = int(3120/32),\n",
        "    validation_data = val_generator,\n",
        "    validation_steps= int(1299/32),\n",
        "    callbacks=[reduce_on_plateau, early_stop, tensorboard],\n",
        "    verbose=1\n",
        ")"
      ],
      "execution_count": null,
      "outputs": [
        {
          "output_type": "stream",
          "text": [
            "Epoch 1/100\n",
            "97/97 [==============================] - 27s 278ms/step - loss: 2.7202 - accuracy: 0.2209 - val_loss: 25.3321 - val_accuracy: 0.0508 - lr: 0.0100\n",
            "Epoch 2/100\n",
            "97/97 [==============================] - 27s 273ms/step - loss: 1.4184 - accuracy: 0.5994 - val_loss: 11.1926 - val_accuracy: 0.0500 - lr: 0.0100\n",
            "Epoch 3/100\n",
            "97/97 [==============================] - 26s 266ms/step - loss: 0.8487 - accuracy: 0.7801 - val_loss: 7.6819 - val_accuracy: 0.0734 - lr: 0.0100\n",
            "Epoch 4/100\n",
            "97/97 [==============================] - 26s 268ms/step - loss: 0.7016 - accuracy: 0.8235 - val_loss: 7.3750 - val_accuracy: 0.1266 - lr: 0.0100\n",
            "Epoch 5/100\n",
            "97/97 [==============================] - 26s 267ms/step - loss: 0.6048 - accuracy: 0.8608 - val_loss: 4.4672 - val_accuracy: 0.1477 - lr: 0.0100\n",
            "Epoch 6/100\n",
            "97/97 [==============================] - 26s 266ms/step - loss: 0.5549 - accuracy: 0.8714 - val_loss: 1.3056 - val_accuracy: 0.6578 - lr: 0.0100\n",
            "Epoch 7/100\n",
            "97/97 [==============================] - 26s 267ms/step - loss: 0.5344 - accuracy: 0.8880 - val_loss: 1.7456 - val_accuracy: 0.5344 - lr: 0.0100\n",
            "Epoch 8/100\n",
            "97/97 [==============================] - 26s 265ms/step - loss: 0.5490 - accuracy: 0.8837 - val_loss: 0.9053 - val_accuracy: 0.7594 - lr: 0.0100\n",
            "Epoch 9/100\n",
            "97/97 [==============================] - 26s 266ms/step - loss: 0.5639 - accuracy: 0.8870 - val_loss: 0.9198 - val_accuracy: 0.7727 - lr: 0.0100\n",
            "Epoch 10/100\n",
            "97/97 [==============================] - ETA: 0s - loss: 0.5134 - accuracy: 0.9032\n",
            "[INFO] Threshold reached! Best weights start here...\n",
            "97/97 [==============================] - 26s 270ms/step - loss: 0.5134 - accuracy: 0.9032 - val_loss: 0.7036 - val_accuracy: 0.8930 - lr: 0.0100\n",
            "Epoch 11/100\n",
            "97/97 [==============================] - ETA: 0s - loss: 0.4871 - accuracy: 0.9145\n",
            "[INFO] Current wait = 1\n",
            "97/97 [==============================] - 26s 265ms/step - loss: 0.4871 - accuracy: 0.9145 - val_loss: 1.0423 - val_accuracy: 0.7758 - lr: 0.0100\n",
            "Epoch 12/100\n",
            "97/97 [==============================] - ETA: 0s - loss: 0.5139 - accuracy: 0.9022\n",
            "[INFO] Current wait = 2\n",
            "97/97 [==============================] - 26s 265ms/step - loss: 0.5139 - accuracy: 0.9022 - val_loss: 5.1775 - val_accuracy: 0.5039 - lr: 0.0100\n",
            "Epoch 13/100\n",
            "97/97 [==============================] - ETA: 0s - loss: 0.4886 - accuracy: 0.9197\n",
            "[INFO] Current wait = 3\n",
            "97/97 [==============================] - 26s 268ms/step - loss: 0.4886 - accuracy: 0.9197 - val_loss: 2.2065 - val_accuracy: 0.5359 - lr: 0.0100\n",
            "Epoch 14/100\n",
            "97/97 [==============================] - ETA: 0s - loss: 0.4958 - accuracy: 0.9168\n",
            "[INFO] Current wait = 4\n",
            "97/97 [==============================] - 26s 266ms/step - loss: 0.4958 - accuracy: 0.9168 - val_loss: 0.9453 - val_accuracy: 0.8133 - lr: 0.0100\n",
            "Epoch 15/100\n",
            "97/97 [==============================] - ETA: 0s - loss: 0.5289 - accuracy: 0.9109\n",
            "[INFO] Current wait = 5\n",
            "97/97 [==============================] - 26s 265ms/step - loss: 0.5289 - accuracy: 0.9109 - val_loss: 2.0151 - val_accuracy: 0.6687 - lr: 0.0100\n",
            "Epoch 16/100\n",
            "97/97 [==============================] - ETA: 0s - loss: 0.4462 - accuracy: 0.9310\n",
            "[INFO] Best weights updated!\n",
            "97/97 [==============================] - 26s 268ms/step - loss: 0.4462 - accuracy: 0.9310 - val_loss: 0.8937 - val_accuracy: 0.8977 - lr: 1.0000e-03\n",
            "Epoch 17/100\n",
            "97/97 [==============================] - ETA: 0s - loss: 0.3953 - accuracy: 0.9547\n",
            "[INFO] Best weights updated!\n",
            "97/97 [==============================] - 26s 268ms/step - loss: 0.3953 - accuracy: 0.9547 - val_loss: 0.6274 - val_accuracy: 0.9352 - lr: 1.0000e-03\n",
            "Epoch 18/100\n",
            "97/97 [==============================] - ETA: 0s - loss: 0.3910 - accuracy: 0.9592\n",
            "[INFO] Best weights updated!\n",
            "97/97 [==============================] - 26s 265ms/step - loss: 0.3910 - accuracy: 0.9592 - val_loss: 0.5708 - val_accuracy: 0.9422 - lr: 1.0000e-03\n",
            "Epoch 19/100\n",
            "97/97 [==============================] - ETA: 0s - loss: 0.3747 - accuracy: 0.9589\n",
            "[INFO] Best weights updated!\n",
            "97/97 [==============================] - 26s 266ms/step - loss: 0.3747 - accuracy: 0.9589 - val_loss: 0.5347 - val_accuracy: 0.9484 - lr: 1.0000e-03\n",
            "Epoch 20/100\n",
            "97/97 [==============================] - ETA: 0s - loss: 0.3519 - accuracy: 0.9692\n",
            "[INFO] Current wait = 1\n",
            "97/97 [==============================] - 26s 265ms/step - loss: 0.3519 - accuracy: 0.9692 - val_loss: 0.5728 - val_accuracy: 0.9336 - lr: 1.0000e-03\n",
            "Epoch 21/100\n",
            "97/97 [==============================] - ETA: 0s - loss: 0.3533 - accuracy: 0.9653\n",
            "[INFO] Current wait = 2\n",
            "97/97 [==============================] - 26s 266ms/step - loss: 0.3533 - accuracy: 0.9653 - val_loss: 0.5013 - val_accuracy: 0.9398 - lr: 1.0000e-03\n",
            "Epoch 22/100\n",
            "97/97 [==============================] - ETA: 0s - loss: 0.3455 - accuracy: 0.9696\n",
            "[INFO] Current wait = 3\n",
            "97/97 [==============================] - 26s 267ms/step - loss: 0.3455 - accuracy: 0.9696 - val_loss: 0.5050 - val_accuracy: 0.9414 - lr: 1.0000e-03\n",
            "Epoch 23/100\n",
            "97/97 [==============================] - ETA: 0s - loss: 0.3268 - accuracy: 0.9718\n",
            "[INFO] Current wait = 4\n",
            "97/97 [==============================] - 26s 265ms/step - loss: 0.3268 - accuracy: 0.9718 - val_loss: 0.5103 - val_accuracy: 0.9398 - lr: 1.0000e-03\n",
            "Epoch 24/100\n",
            "97/97 [==============================] - ETA: 0s - loss: 0.3328 - accuracy: 0.9692\n",
            "[INFO] Current wait = 5\n",
            "97/97 [==============================] - 26s 265ms/step - loss: 0.3328 - accuracy: 0.9692 - val_loss: 0.4982 - val_accuracy: 0.9422 - lr: 1.0000e-03\n",
            "Epoch 25/100\n",
            "97/97 [==============================] - ETA: 0s - loss: 0.3249 - accuracy: 0.9679\n",
            "[INFO] Current wait = 6\n",
            "97/97 [==============================] - 26s 265ms/step - loss: 0.3249 - accuracy: 0.9679 - val_loss: 0.4741 - val_accuracy: 0.9414 - lr: 1.0000e-03\n",
            "Epoch 26/100\n",
            "97/97 [==============================] - ETA: 0s - loss: 0.3065 - accuracy: 0.9764\n",
            "[INFO] Current wait = 7\n",
            "97/97 [==============================] - 26s 267ms/step - loss: 0.3065 - accuracy: 0.9764 - val_loss: 0.4766 - val_accuracy: 0.9445 - lr: 1.0000e-03\n",
            "Epoch 27/100\n",
            "97/97 [==============================] - ETA: 0s - loss: 0.3087 - accuracy: 0.9741\n",
            "[INFO] Current wait = 8\n",
            "97/97 [==============================] - 26s 265ms/step - loss: 0.3087 - accuracy: 0.9741 - val_loss: 0.4791 - val_accuracy: 0.9445 - lr: 1.0000e-03\n",
            "Epoch 28/100\n",
            "97/97 [==============================] - ETA: 0s - loss: 0.3106 - accuracy: 0.9702\n",
            "[INFO] Current wait = 9\n",
            "97/97 [==============================] - 26s 265ms/step - loss: 0.3106 - accuracy: 0.9702 - val_loss: 0.4701 - val_accuracy: 0.9469 - lr: 1.0000e-03\n",
            "Epoch 29/100\n",
            "97/97 [==============================] - ETA: 0s - loss: 0.2935 - accuracy: 0.9754\n",
            "[INFO] Best weights updated!\n",
            "97/97 [==============================] - 26s 265ms/step - loss: 0.2935 - accuracy: 0.9754 - val_loss: 0.4396 - val_accuracy: 0.9500 - lr: 1.0000e-03\n",
            "Epoch 30/100\n",
            "97/97 [==============================] - ETA: 0s - loss: 0.3131 - accuracy: 0.9670\n",
            "[INFO] Best weights updated!\n",
            "97/97 [==============================] - 25s 261ms/step - loss: 0.3131 - accuracy: 0.9670 - val_loss: 0.3937 - val_accuracy: 0.9602 - lr: 1.0000e-03\n",
            "Epoch 31/100\n",
            "97/97 [==============================] - ETA: 0s - loss: 0.2879 - accuracy: 0.9734\n",
            "[INFO] Current wait = 1\n",
            "97/97 [==============================] - 26s 264ms/step - loss: 0.2879 - accuracy: 0.9734 - val_loss: 0.4487 - val_accuracy: 0.9492 - lr: 1.0000e-03\n",
            "Epoch 32/100\n",
            "97/97 [==============================] - ETA: 0s - loss: 0.2942 - accuracy: 0.9764\n",
            "[INFO] Current wait = 2\n",
            "97/97 [==============================] - 26s 266ms/step - loss: 0.2942 - accuracy: 0.9764 - val_loss: 0.4397 - val_accuracy: 0.9531 - lr: 1.0000e-03\n",
            "Epoch 33/100\n",
            "97/97 [==============================] - ETA: 0s - loss: 0.2791 - accuracy: 0.9760\n",
            "[INFO] Current wait = 3\n",
            "97/97 [==============================] - 26s 264ms/step - loss: 0.2791 - accuracy: 0.9760 - val_loss: 0.3751 - val_accuracy: 0.9578 - lr: 1.0000e-03\n",
            "Epoch 34/100\n",
            "97/97 [==============================] - ETA: 0s - loss: 0.2776 - accuracy: 0.9764\n",
            "[INFO] Current wait = 4\n",
            "97/97 [==============================] - 26s 265ms/step - loss: 0.2776 - accuracy: 0.9764 - val_loss: 0.4094 - val_accuracy: 0.9508 - lr: 1.0000e-03\n",
            "Epoch 35/100\n",
            "97/97 [==============================] - ETA: 0s - loss: 0.2767 - accuracy: 0.9757\n",
            "[INFO] Current wait = 5\n",
            "97/97 [==============================] - 26s 264ms/step - loss: 0.2767 - accuracy: 0.9757 - val_loss: 0.4409 - val_accuracy: 0.9438 - lr: 1.0000e-03\n",
            "Epoch 36/100\n",
            "97/97 [==============================] - ETA: 0s - loss: 0.2570 - accuracy: 0.9822\n",
            "[INFO] Current wait = 6\n",
            "97/97 [==============================] - 25s 261ms/step - loss: 0.2570 - accuracy: 0.9822 - val_loss: 0.4369 - val_accuracy: 0.9461 - lr: 1.0000e-03\n",
            "Epoch 37/100\n",
            "97/97 [==============================] - ETA: 0s - loss: 0.2597 - accuracy: 0.9790\n",
            "[INFO] Current wait = 7\n",
            "97/97 [==============================] - 25s 261ms/step - loss: 0.2597 - accuracy: 0.9790 - val_loss: 0.3642 - val_accuracy: 0.9555 - lr: 1.0000e-03\n",
            "Epoch 38/100\n",
            "97/97 [==============================] - ETA: 0s - loss: 0.2666 - accuracy: 0.9751\n",
            "[INFO] Current wait = 8\n",
            "97/97 [==============================] - 26s 263ms/step - loss: 0.2666 - accuracy: 0.9751 - val_loss: 0.3895 - val_accuracy: 0.9477 - lr: 1.0000e-03\n",
            "Epoch 39/100\n",
            "97/97 [==============================] - ETA: 0s - loss: 0.2557 - accuracy: 0.9783\n",
            "[INFO] Best weights updated!\n",
            "97/97 [==============================] - 25s 261ms/step - loss: 0.2557 - accuracy: 0.9783 - val_loss: 0.3456 - val_accuracy: 0.9617 - lr: 1.0000e-03\n",
            "Epoch 40/100\n",
            "97/97 [==============================] - ETA: 0s - loss: 0.2508 - accuracy: 0.9803\n",
            "[INFO] Current wait = 1\n",
            "97/97 [==============================] - 25s 262ms/step - loss: 0.2508 - accuracy: 0.9803 - val_loss: 0.3630 - val_accuracy: 0.9563 - lr: 1.0000e-03\n",
            "Epoch 41/100\n",
            "97/97 [==============================] - ETA: 0s - loss: 0.2489 - accuracy: 0.9780\n",
            "[INFO] Current wait = 2\n",
            "97/97 [==============================] - 25s 263ms/step - loss: 0.2489 - accuracy: 0.9780 - val_loss: 0.3667 - val_accuracy: 0.9570 - lr: 1.0000e-03\n",
            "Epoch 42/100\n",
            "97/97 [==============================] - ETA: 0s - loss: 0.2401 - accuracy: 0.9799\n",
            "[INFO] Current wait = 3\n",
            "97/97 [==============================] - 25s 262ms/step - loss: 0.2401 - accuracy: 0.9799 - val_loss: 0.4199 - val_accuracy: 0.9461 - lr: 1.0000e-03\n",
            "Epoch 43/100\n",
            "97/97 [==============================] - ETA: 0s - loss: 0.2426 - accuracy: 0.9770\n",
            "[INFO] Current wait = 4\n",
            "97/97 [==============================] - 25s 260ms/step - loss: 0.2426 - accuracy: 0.9770 - val_loss: 0.4526 - val_accuracy: 0.9453 - lr: 1.0000e-03\n",
            "Epoch 44/100\n",
            "97/97 [==============================] - ETA: 0s - loss: 0.2367 - accuracy: 0.9793\n",
            "[INFO] Current wait = 5\n",
            "97/97 [==============================] - 25s 261ms/step - loss: 0.2367 - accuracy: 0.9793 - val_loss: 0.3651 - val_accuracy: 0.9508 - lr: 1.0000e-03\n",
            "Epoch 45/100\n",
            "97/97 [==============================] - ETA: 0s - loss: 0.2291 - accuracy: 0.9828\n",
            "[INFO] Current wait = 6\n",
            "97/97 [==============================] - 26s 266ms/step - loss: 0.2291 - accuracy: 0.9828 - val_loss: 0.3677 - val_accuracy: 0.9531 - lr: 1.0000e-04\n",
            "Epoch 46/100\n",
            "97/97 [==============================] - ETA: 0s - loss: 0.2164 - accuracy: 0.9867\n",
            "[INFO] Current wait = 7\n",
            "97/97 [==============================] - 26s 267ms/step - loss: 0.2164 - accuracy: 0.9867 - val_loss: 0.3686 - val_accuracy: 0.9539 - lr: 1.0000e-04\n",
            "Epoch 47/100\n",
            "97/97 [==============================] - ETA: 0s - loss: 0.2225 - accuracy: 0.9845\n",
            "[INFO] Current wait = 8\n",
            "97/97 [==============================] - 26s 265ms/step - loss: 0.2225 - accuracy: 0.9845 - val_loss: 0.3701 - val_accuracy: 0.9539 - lr: 1.0000e-04\n",
            "Epoch 48/100\n",
            "97/97 [==============================] - ETA: 0s - loss: 0.2248 - accuracy: 0.9809\n",
            "[INFO] Current wait = 9\n",
            "97/97 [==============================] - 26s 266ms/step - loss: 0.2248 - accuracy: 0.9809 - val_loss: 0.3651 - val_accuracy: 0.9547 - lr: 1.0000e-04\n",
            "Epoch 49/100\n",
            "97/97 [==============================] - ETA: 0s - loss: 0.2261 - accuracy: 0.9815\n",
            "[INFO] Current wait = 10\n",
            "97/97 [==============================] - 26s 265ms/step - loss: 0.2261 - accuracy: 0.9815 - val_loss: 0.3754 - val_accuracy: 0.9539 - lr: 1.0000e-04\n",
            "Epoch 50/100\n",
            "97/97 [==============================] - ETA: 0s - loss: 0.2202 - accuracy: 0.9832\n",
            "[INFO] Current wait = 11\n",
            "97/97 [==============================] - 26s 263ms/step - loss: 0.2202 - accuracy: 0.9832 - val_loss: 0.3847 - val_accuracy: 0.9523 - lr: 1.0000e-04\n",
            "Epoch 51/100\n",
            "97/97 [==============================] - ETA: 0s - loss: 0.2285 - accuracy: 0.9800\n",
            "[INFO] Current wait = 12\n",
            "97/97 [==============================] - 26s 265ms/step - loss: 0.2285 - accuracy: 0.9800 - val_loss: 0.3963 - val_accuracy: 0.9523 - lr: 1.0000e-04\n",
            "Epoch 52/100\n",
            "97/97 [==============================] - ETA: 0s - loss: 0.2275 - accuracy: 0.9806\n",
            "[INFO] Current wait = 13\n",
            "97/97 [==============================] - 26s 267ms/step - loss: 0.2275 - accuracy: 0.9806 - val_loss: 0.3855 - val_accuracy: 0.9531 - lr: 1.0000e-05\n",
            "Epoch 53/100\n",
            "97/97 [==============================] - ETA: 0s - loss: 0.2224 - accuracy: 0.9825\n",
            "[INFO] Current wait = 14\n",
            "97/97 [==============================] - 26s 265ms/step - loss: 0.2224 - accuracy: 0.9825 - val_loss: 0.3733 - val_accuracy: 0.9539 - lr: 1.0000e-05\n",
            "Epoch 54/100\n",
            "97/97 [==============================] - ETA: 0s - loss: 0.2221 - accuracy: 0.9832\n",
            "[INFO] Current wait = 15\n",
            "97/97 [==============================] - 26s 268ms/step - loss: 0.2221 - accuracy: 0.9832 - val_loss: 0.3792 - val_accuracy: 0.9539 - lr: 1.0000e-05\n",
            "Epoch 55/100\n",
            "97/97 [==============================] - ETA: 0s - loss: 0.2233 - accuracy: 0.9822\n",
            "[INFO] Current wait = 16\n",
            "97/97 [==============================] - 26s 266ms/step - loss: 0.2233 - accuracy: 0.9822 - val_loss: 0.3789 - val_accuracy: 0.9531 - lr: 1.0000e-05\n",
            "Epoch 56/100\n",
            "97/97 [==============================] - ETA: 0s - loss: 0.2274 - accuracy: 0.9825\n",
            "[INFO] Current wait = 17\n",
            "97/97 [==============================] - 26s 266ms/step - loss: 0.2274 - accuracy: 0.9825 - val_loss: 0.3677 - val_accuracy: 0.9547 - lr: 1.0000e-05\n",
            "Epoch 57/100\n",
            "97/97 [==============================] - ETA: 0s - loss: 0.2199 - accuracy: 0.9835\n",
            "[INFO] Current wait = 18\n",
            "97/97 [==============================] - 26s 268ms/step - loss: 0.2199 - accuracy: 0.9835 - val_loss: 0.3760 - val_accuracy: 0.9539 - lr: 1.0000e-05\n",
            "Epoch 58/100\n",
            "97/97 [==============================] - ETA: 0s - loss: 0.2194 - accuracy: 0.9828\n",
            "[INFO] Current wait = 19\n",
            "97/97 [==============================] - 26s 265ms/step - loss: 0.2194 - accuracy: 0.9828 - val_loss: 0.3709 - val_accuracy: 0.9547 - lr: 1.0000e-05\n",
            "Epoch 59/100\n",
            "97/97 [==============================] - ETA: 0s - loss: 0.2232 - accuracy: 0.9838\n",
            "[INFO] Current wait = 20\n",
            "\n",
            "[INFO] Validation Accuracy didnt increased after 20 epochs, training stopped...\n",
            "\n",
            "[INFO] Restoring best weights from epoch 39 val_acc\n",
            "97/97 [==============================] - 26s 265ms/step - loss: 0.2232 - accuracy: 0.9838 - val_loss: 0.3660 - val_accuracy: 0.9555 - lr: 1.0000e-06\n"
          ],
          "name": "stdout"
        }
      ]
    },
    {
      "cell_type": "code",
      "metadata": {
        "id": "iqhkE382B5-o",
        "colab_type": "code",
        "colab": {
          "base_uri": "https://localhost:8080/",
          "height": 320
        },
        "outputId": "9673063e-a1df-4f62-94e6-63e11efa5637"
      },
      "source": [
        "plot(improved_hist)"
      ],
      "execution_count": null,
      "outputs": [
        {
          "output_type": "display_data",
          "data": {
            "image/png": "[encoded data removed]",
            "text/plain": [
              "<Figure size 864x360 with 2 Axes>"
            ]
          },
          "metadata": {
            "tags": []
          }
        }
      ]
    },
    {
      "cell_type": "code",
      "metadata": {
        "id": "LS9vj8XCkLRT",
        "colab_type": "code",
        "colab": {
          "base_uri": "https://localhost:8080/",
          "height": 1000
        },
        "outputId": "f2c98566-ddfd-4ba6-8a2b-93c29829ad8d"
      },
      "source": [
        "test(improved_model, SIZE)\n",
        "assert False"
      ],
      "execution_count": null,
      "outputs": [
        {
          "output_type": "stream",
          "text": [
            "dataset/prediction/nga220.pred.png\n",
            "nga\n"
          ],
          "name": "stdout"
        },
        {
          "output_type": "display_data",
          "data": {
            "image/png": "[encoded data removed]",
            "text/plain": [
              "<Figure size 576x396 with 1 Axes>"
            ]
          },
          "metadata": {
            "tags": []
          }
        },
        {
          "output_type": "stream",
          "text": [
            "dataset/prediction/ba49.mine2.png\n",
            "ba\n"
          ],
          "name": "stdout"
        },
        {
          "output_type": "display_data",
          "data": {
            "image/png": "[encoded data removed]",
            "text/plain": [
              "<Figure size 576x396 with 1 Axes>"
            ]
          },
          "metadata": {
            "tags": []
          }
        },
        {
          "output_type": "stream",
          "text": [
            "dataset/prediction/ra164.pred.png\n",
            "ra\n"
          ],
          "name": "stdout"
        },
        {
          "output_type": "display_data",
          "data": {
            "image/png": "[encoded data removed]",
            "text/plain": [
              "<Figure size 576x396 with 1 Axes>"
            ]
          },
          "metadata": {
            "tags": []
          }
        },
        {
          "output_type": "stream",
          "text": [
            "dataset/prediction/ma.0.jpg\n",
            "tha\n"
          ],
          "name": "stdout"
        },
        {
          "output_type": "display_data",
          "data": {
            "image/png": "[encoded data removed]",
            "text/plain": [
              "<Figure size 576x396 with 1 Axes>"
            ]
          },
          "metadata": {
            "tags": []
          }
        },
        {
          "output_type": "stream",
          "text": [
            "dataset/prediction/ma.1.jpg\n",
            "ma\n"
          ],
          "name": "stdout"
        },
        {
          "output_type": "display_data",
          "data": {
            "image/png": "[encoded data removed]",
            "text/plain": [
              "<Figure size 576x396 with 1 Axes>"
            ]
          },
          "metadata": {
            "tags": []
          }
        },
        {
          "output_type": "stream",
          "text": [
            "Prediction Done\n"
          ],
          "name": "stdout"
        },
        {
          "output_type": "error",
          "ename": "AssertionError",
          "evalue": "ignored",
          "traceback": [
            "\u001b[0;31m---------------------------------------------------------------------------\u001b[0m",
            "\u001b[0;31mAssertionError\u001b[0m                            Traceback (most recent call last)",
            "\u001b[0;32m<ipython-input-40-551909e3ac5b>\u001b[0m in \u001b[0;36m<module>\u001b[0;34m()\u001b[0m\n\u001b[1;32m      1\u001b[0m \u001b[0mtest\u001b[0m\u001b[0;34m(\u001b[0m\u001b[0mimproved_model\u001b[0m\u001b[0;34m,\u001b[0m \u001b[0mSIZE\u001b[0m\u001b[0;34m)\u001b[0m\u001b[0;34m\u001b[0m\u001b[0;34m\u001b[0m\u001b[0m\n\u001b[0;32m----> 2\u001b[0;31m \u001b[0;32massert\u001b[0m \u001b[0;32mFalse\u001b[0m\u001b[0;34m\u001b[0m\u001b[0;34m\u001b[0m\u001b[0m\n\u001b[0m",
            "\u001b[0;31mAssertionError\u001b[0m: "
          ]
        }
      ]
    },
    {
      "cell_type": "code",
      "metadata": {
        "colab_type": "code",
        "id": "V9vUG5OHnuRn",
        "colab": {
          "base_uri": "https://localhost:8080/",
          "height": 105
        },
        "outputId": "a66de91c-c5f2-4697-f3d9-839d63a55d3e"
      },
      "source": [
        "MODEL_PATH = '/content/gdrive/My Drive/HanacarakaAI/model/improved/v3'\n",
        "tf.saved_model.save(improved_model, os.path.join(MODEL_PATH, 'saved_model'))"
      ],
      "execution_count": null,
      "outputs": [
        {
          "output_type": "stream",
          "text": [
            "WARNING:tensorflow:From /usr/local/lib/python3.6/dist-packages/tensorflow/python/ops/resource_variable_ops.py:1817: calling BaseResourceVariable.__init__ (from tensorflow.python.ops.resource_variable_ops) with constraint is deprecated and will be removed in a future version.\n",
            "Instructions for updating:\n",
            "If using Keras pass *_constraint arguments to layers.\n",
            "INFO:tensorflow:Assets written to: /content/gdrive/My Drive/HanacarakaAI/model/improved/v3/saved_model/assets\n"
          ],
          "name": "stdout"
        }
      ]
    },
    {
      "cell_type": "code",
      "metadata": {
        "colab_type": "code",
        "id": "8Lg6XpNWnuR9",
        "colab": {}
      },
      "source": [
        "tf.keras.models.save_model(improved_model, os.path.join(MODEL_PATH, 'improved_model_v3.h5'))"
      ],
      "execution_count": null,
      "outputs": []
    },
    {
      "cell_type": "code",
      "metadata": {
        "id": "B3xEVjxQG44u",
        "colab_type": "code",
        "colab": {}
      },
      "source": [
        ""
      ],
      "execution_count": null,
      "outputs": []
    }
  ]
}